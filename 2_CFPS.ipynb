{
 "cells": [
  {
   "cell_type": "code",
   "execution_count": 9,
   "metadata": {},
   "outputs": [],
   "source": [
    "import cv2\n",
    "import face_recognition\n",
    "import time\n",
    "\n",
    "face_cascade = cv2.CascadeClassifier(\"eye_de_mo\\haarcascade_frontalface_default.xml\") \n",
    "\n",
    "eye_cascade = cv2.CascadeClassifier(\"eye_de_mo\\haarcascade_eye_tree_eyeglasses.xml\")  \n",
    "  \n",
    "# capture frames from a camera \n",
    "cap = cv2.VideoCapture(2) \n"
   ]
  },
  {
   "cell_type": "code",
   "execution_count": 6,
   "metadata": {},
   "outputs": [
    {
     "name": "stdout",
     "output_type": "stream",
     "text": [
      "Resolution: 1920 x 1080\n",
      "FPS: 60.0\n",
      "Current FPS: 60.0\n",
      "Updated FPS: 60.0\n"
     ]
    }
   ],
   "source": [
    "# Check if the webcam is opened successfully\n",
    "if not cap.isOpened():\n",
    "    print(\"Failed to open the webcam.\")\n",
    "    exit()\n",
    "\n",
    "cap.set(cv2.CAP_PROP_FRAME_WIDTH, 1920)\n",
    "cap.set(cv2.CAP_PROP_FRAME_HEIGHT, 1080)\n",
    "\n",
    "# ตั้งค่าเฟรมเรทให้กล้องเว็บแคม\n",
    "cap.set(cv2.CAP_PROP_FPS, 60)\n",
    "\n",
    "# ตรวจสอบความละเอียดที่กำหนดและเฟรมเรทปัจจุบัน\n",
    "width = int(cap.get(cv2.CAP_PROP_FRAME_WIDTH))\n",
    "height = int(cap.get(cv2.CAP_PROP_FRAME_HEIGHT))\n",
    "fps = cap.get(cv2.CAP_PROP_FPS)\n",
    "print(\"Resolution:\", width, \"x\", height)\n",
    "print(\"FPS:\", fps)\n",
    "\n",
    "current_fps = cap.get(cv2.CAP_PROP_FPS)\n",
    "print(\"Current FPS:\", current_fps)\n",
    "\n",
    "# Set the desired FPS value\n",
    "desired_fps = 60\n",
    "\n",
    "# Set the desired FPS of the webcam\n",
    "cap.set(cv2.CAP_PROP_FPS, desired_fps)\n",
    "\n",
    "# Print the updated FPS of the webcam\n",
    "updated_fps = cap.get(cv2.CAP_PROP_FPS)\n",
    "print(\"Updated FPS:\", updated_fps)\n",
    "\n"
   ]
  },
  {
   "cell_type": "code",
   "execution_count": 10,
   "metadata": {},
   "outputs": [],
   "source": [
    "start_time = time.time()\n",
    "frame_count = 0"
   ]
  },
  {
   "cell_type": "code",
   "execution_count": 11,
   "metadata": {},
   "outputs": [],
   "source": [
    "def facerectangle(faces2) :\n",
    "    for (top, right, bottom, left) in faces2:\n",
    "        cv2.rectangle(img, (left, top), (right, bottom), (0, 0, 255), 2)"
   ]
  },
  {
   "cell_type": "code",
   "execution_count": 12,
   "metadata": {},
   "outputs": [
    {
     "name": "stdout",
     "output_type": "stream",
     "text": [
      "Processing FPS : 0.34\n",
      "Processing FPS : 30.4\n",
      "Processing FPS : 29.79\n",
      "Processing FPS : 30.74\n",
      "Processing FPS : 29.8\n",
      "Processing FPS : 29.72\n",
      "Processing FPS : 30.73\n",
      "Processing FPS : 29.9\n",
      "Processing FPS : 25.55\n",
      "Processing FPS : 31.33\n"
     ]
    }
   ],
   "source": [
    "# loop runs if capturing has been initialized. \n",
    "while 1:  \n",
    "  \n",
    "    # reads frames from a camera \n",
    "    ret, img = cap.read()  \n",
    "    frame_count += 1\n",
    "\n",
    "    # convert to gray scale of each frames \n",
    "    #gray = cv2.cvtColor(img, cv2.COLOR_BGR2GRAY) \n",
    "  \n",
    "    # Detects faces of different sizes in the input image \n",
    "    #faces = face_cascade.detectMultiScale(gray, 1.3, 5) \n",
    "    #faces2 = face_recognition.face_locations(img)\n",
    "    #facerectangle(faces2)\n",
    "\n",
    "    if time.time() - start_time >= 1:\n",
    "        fps = frame_count / (time.time() - start_time)\n",
    "        print(\"Processing FPS :\", round(fps, 2))\n",
    "        start_time = time.time()\n",
    "        frame_count = 0\n",
    "\n",
    "    # Wait for Esc key to stop \n",
    "    k = cv2.waitKey(5)\n",
    "    if k == 27: \n",
    "        break\n",
    "\n",
    "    cv2.imshow('Ai_sleepdiver',img) \n",
    "  \n",
    "# Close the window \n",
    "cap.release() \n",
    "  \n",
    "# De-allocate any associated memory usage \n",
    "cv2.destroyAllWindows()"
   ]
  }
 ],
 "metadata": {
  "kernelspec": {
   "display_name": "Python 3",
   "language": "python",
   "name": "python3"
  },
  "language_info": {
   "codemirror_mode": {
    "name": "ipython",
    "version": 3
   },
   "file_extension": ".py",
   "mimetype": "text/x-python",
   "name": "python",
   "nbconvert_exporter": "python",
   "pygments_lexer": "ipython3",
   "version": "3.9.6"
  },
  "orig_nbformat": 4
 },
 "nbformat": 4,
 "nbformat_minor": 2
}
