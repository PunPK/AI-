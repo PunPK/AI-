{
 "cells": [
  {
   "cell_type": "code",
   "execution_count": null,
   "metadata": {},
   "outputs": [],
   "source": []
  },
  {
   "cell_type": "code",
   "execution_count": 8,
   "metadata": {},
   "outputs": [],
   "source": [
    "import cv2\n",
    "import tensorflow\n",
    "import keras\n",
    "from PIL import Image"
   ]
  },
  {
   "cell_type": "code",
   "execution_count": null,
   "metadata": {},
   "outputs": [],
   "source": []
  },
  {
   "cell_type": "code",
   "execution_count": 9,
   "metadata": {},
   "outputs": [
    {
     "name": "stdout",
     "output_type": "stream",
     "text": [
      "(True, array([[[ 73,  64,  60],\n",
      "        [ 71,  63,  56],\n",
      "        [ 71,  62,  52],\n",
      "        ...,\n",
      "        [143, 129, 119],\n",
      "        [141, 127, 117],\n",
      "        [138, 125, 114]],\n",
      "\n",
      "       [[ 71,  62,  53],\n",
      "        [ 70,  62,  53],\n",
      "        [ 67,  60,  49],\n",
      "        ...,\n",
      "        [135, 125, 113],\n",
      "        [137, 127, 114],\n",
      "        [137, 126, 114]],\n",
      "\n",
      "       [[ 70,  60,  52],\n",
      "        [ 68,  60,  50],\n",
      "        [ 71,  65,  54],\n",
      "        ...,\n",
      "        [135, 126, 111],\n",
      "        [138, 128, 113],\n",
      "        [140, 129, 114]],\n",
      "\n",
      "       ...,\n",
      "\n",
      "       [[ 59,  53,  60],\n",
      "        [ 60,  54,  60],\n",
      "        [ 60,  55,  58],\n",
      "        ...,\n",
      "        [ 63, 130, 115],\n",
      "        [ 58, 127, 112],\n",
      "        [ 58, 128, 113]],\n",
      "\n",
      "       [[ 58,  53,  54],\n",
      "        [ 59,  55,  54],\n",
      "        [ 60,  56,  54],\n",
      "        ...,\n",
      "        [ 58, 128, 110],\n",
      "        [ 55, 125, 107],\n",
      "        [ 56, 126, 109]],\n",
      "\n",
      "       [[ 58,  56,  54],\n",
      "        [ 58,  56,  54],\n",
      "        [ 57,  55,  53],\n",
      "        ...,\n",
      "        [ 62, 129, 110],\n",
      "        [ 61, 129, 109],\n",
      "        [ 62, 130, 110]]], dtype=uint8))\n"
     ]
    }
   ],
   "source": [
    "webcam = cv2.VideoCapture(1)\n",
    "#print(webcam)\n",
    "print(webcam.read())"
   ]
  },
  {
   "cell_type": "code",
   "execution_count": 4,
   "metadata": {},
   "outputs": [],
   "source": [
    "face_cascade = \"haarcascade_frontalface_default.xml\""
   ]
  },
  {
   "cell_type": "code",
   "execution_count": 5,
   "metadata": {},
   "outputs": [
    {
     "ename": "NameError",
     "evalue": "name 'webcam' is not defined",
     "output_type": "error",
     "traceback": [
      "\u001b[1;31m---------------------------------------------------------------------------\u001b[0m",
      "\u001b[1;31mNameError\u001b[0m                                 Traceback (most recent call last)",
      "Cell \u001b[1;32mIn[5], line 3\u001b[0m\n\u001b[0;32m      1\u001b[0m \u001b[39mwhile\u001b[39;00m \u001b[39mTrue\u001b[39;00m:\n\u001b[1;32m----> 3\u001b[0m  success, image_bgr \u001b[39m=\u001b[39m webcam\u001b[39m.\u001b[39mread()\n\u001b[0;32m      5\u001b[0m  image_bw \u001b[39m=\u001b[39m cv2\u001b[39m.\u001b[39mcvtColor(image_bgr, cv2\u001b[39m.\u001b[39mCOLOR_BGR2GRAY)\n\u001b[0;32m      7\u001b[0m  face_classifier \u001b[39m=\u001b[39m cv2\u001b[39m.\u001b[39mCascadeClassifier(face_cascade)\n",
      "\u001b[1;31mNameError\u001b[0m: name 'webcam' is not defined"
     ]
    }
   ],
   "source": [
    "while True:\n",
    " \n",
    " success, image_bgr = webcam.read()\n",
    " \n",
    " image_bw = cv2.cvtColor(image_bgr, cv2.COLOR_BGR2GRAY)\n",
    "\n",
    " face_classifier = cv2.CascadeClassifier(face_cascade)\n",
    " faces = face_classifier.detectMultiScale(image_bw)\n",
    "\n",
    " print(f'There are {len(faces)} faces found.')\n",
    "\n",
    " for face in faces:\n",
    "   x, y, w, h = face\n",
    "   cv2.rectangle(image_bgr, (x, y), (x+w, y+h), (0, 255, 0), 2)\n",
    "\n",
    " cv2.imshow(\"Faces found\", image_bgr)\n",
    " cv2.waitKey(1) "
   ]
  },
  {
   "cell_type": "code",
   "execution_count": 16,
   "metadata": {},
   "outputs": [
    {
     "ename": "error",
     "evalue": "OpenCV(4.7.0) D:\\a\\opencv-python\\opencv-python\\opencv\\modules\\imgproc\\src\\demosaicing.cpp:1699: error: (-215:Assertion failed) scn == 1 && dcn == 1 in function 'cv::demosaicing'\n",
     "output_type": "error",
     "traceback": [
      "\u001b[1;31m---------------------------------------------------------------------------\u001b[0m",
      "\u001b[1;31merror\u001b[0m                                     Traceback (most recent call last)",
      "Cell \u001b[1;32mIn[16], line 5\u001b[0m\n\u001b[0;32m      3\u001b[0m img \u001b[39m=\u001b[39m cv\u001b[39m.\u001b[39mimread(\u001b[39m'\u001b[39m\u001b[39mPK2.jpg\u001b[39m\u001b[39m'\u001b[39m)\n\u001b[0;32m      4\u001b[0m face_model \u001b[39m=\u001b[39m cv\u001b[39m.\u001b[39mCascadeClassifier(\u001b[39m'\u001b[39m\u001b[39mface_de_mo.xml\u001b[39m\u001b[39m'\u001b[39m)\n\u001b[1;32m----> 5\u001b[0m gray_scale \u001b[39m=\u001b[39m cv\u001b[39m.\u001b[39;49mcvtColor(img, cv\u001b[39m.\u001b[39;49mCOLOR_BAYER_BG2GRAY)\n\u001b[0;32m      6\u001b[0m faces \u001b[39m=\u001b[39m face_model\u001b[39m.\u001b[39mdetectMultiScale(gray_scale)\n\u001b[0;32m      8\u001b[0m \u001b[39m#for (x,y,w,h) in faces :\u001b[39;00m\n\u001b[0;32m      9\u001b[0m \u001b[39m#    cv.rectangle(img, (x,y), (x+w,y+h), (255,255,0), 2)\u001b[39;00m\n",
      "\u001b[1;31merror\u001b[0m: OpenCV(4.7.0) D:\\a\\opencv-python\\opencv-python\\opencv\\modules\\imgproc\\src\\demosaicing.cpp:1699: error: (-215:Assertion failed) scn == 1 && dcn == 1 in function 'cv::demosaicing'\n"
     ]
    }
   ],
   "source": [
    "import cv2 as cv\n",
    "\n",
    "img = cv.imread('PK2.jpg')\n",
    "face_model = cv.CascadeClassifier('face_de_mo.xml')\n",
    "gray_scale = cv.cvtColor(img, cv.COLOR_BAYER_BG2GRAY)\n",
    "faces = face_model.detectMultiScale(gray_scale)\n",
    "\n",
    "#for (x,y,w,h) in faces :\n",
    "#    cv.rectangle(img, (x,y), (x+w,y+h), (255,255,0), 2)\n",
    "\n",
    "cv.imshow('PK', img)\n",
    "cv.waitKey(0)\n",
    "cv.destroyAllWindows()"
   ]
  },
  {
   "cell_type": "code",
   "execution_count": 12,
   "metadata": {},
   "outputs": [],
   "source": [
    "import face_recognition\n",
    "\n",
    "image = face_recognition.load_image_file(\"PK2.jpg\")\n",
    "#face_landmarks_list = face_recognition.face_landmarks(image)\n",
    "face_locations = face_recognition.face_locations(image)\n"
   ]
  },
  {
   "cell_type": "code",
   "execution_count": 18,
   "metadata": {},
   "outputs": [],
   "source": [
    "import face_recognition\n",
    "from PIL import Image, ImageDraw\n",
    "\n",
    "# Load the input image file\n",
    "image = face_recognition.load_image_file(\"PK2.jpg\")\n",
    "\n",
    "# Find face locations\n",
    "face_locations = face_recognition.face_locations(image)\n",
    "\n",
    "# Create a PIL ImageDraw object to draw rectangles on the image\n",
    "pil_image = Image.fromarray(image)\n",
    "draw = ImageDraw.Draw(pil_image)\n",
    "\n",
    "# Loop through each face location and draw a rectangle around the face\n",
    "for top, right, bottom, left in face_locations:\n",
    "    draw.rectangle(((left, top), (right, bottom)), outline=\"red\", width=3)\n",
    "\n",
    "# Display the image\n",
    "pil_image.show()"
   ]
  },
  {
   "cell_type": "code",
   "execution_count": 22,
   "metadata": {},
   "outputs": [],
   "source": [
    "import cv2\n",
    "import face_recognition\n",
    "\n",
    "# Load the input image file\n",
    "webcam = cv2.VideoCapture(1)\n",
    "success, image_bgr = webcam.read()\n",
    "image_bw = cv2.cvtColor(image_bgr, cv2.COLOR_BGR2GRAY)\n",
    "#image = cv2.imread(\"PK2.jpg\")\n",
    "\n",
    "# Find face locations\n",
    "face_locations = face_recognition.face_locations(image)\n",
    "\n",
    "# Loop through each face location and draw a rectangle around the face\n",
    "for (top, right, bottom, left) in face_locations:\n",
    "    cv2.rectangle(image, (left, top), (right, bottom), (0, 0, 255), 2)\n",
    "\n",
    "# Display the image\n",
    "cv2.imshow(\"Face Detection\", image)\n",
    "cv2.waitKey(0)\n",
    "cv.destroyAllWindows()\n"
   ]
  },
  {
   "cell_type": "code",
   "execution_count": 10,
   "metadata": {},
   "outputs": [
    {
     "data": {
      "text/plain": [
       "-1"
      ]
     },
     "execution_count": 10,
     "metadata": {},
     "output_type": "execute_result"
    }
   ],
   "source": [
    "import cv2\n",
    "import face_recognition\n",
    "\n",
    "# Load the input image file\n",
    "webcam = cv2.VideoCapture(1)\n",
    "success, image = webcam.read()\n",
    "#image = cv2.cvtColor(image, cv2.COLOR_BGR2GRAY)\n",
    "#image = cv2.imread(\"PK2.jpg\")\n",
    "\n",
    "# Find face locations\n",
    "face_locations = face_recognition.face_locations(image)\n",
    "\n",
    "# Loop through each face location and draw a rectangle around the face\n",
    "for (top, right, bottom, left) in face_locations:\n",
    "    cv2.rectangle(image, (left, top), (right, bottom), (0, 0, 255), 2)\n",
    "\n",
    "# Display the image\n",
    "cv2.imshow(\"Face Detection\", image)\n",
    "cv2.waitKey(0)\n",
    "#cv.destroyAllWindows()"
   ]
  },
  {
   "cell_type": "code",
   "execution_count": 1,
   "metadata": {},
   "outputs": [],
   "source": [
    "import cv2\n",
    "import face_recognition\n",
    "\n",
    "# Load the input image file\n",
    "webcam = cv2.VideoCapture(1)"
   ]
  },
  {
   "cell_type": "code",
   "execution_count": 3,
   "metadata": {},
   "outputs": [
    {
     "name": "stdout",
     "output_type": "stream",
     "text": [
      "There are 0 faces found.\n",
      "There are 0 faces found.\n",
      "There are 0 faces found.\n",
      "There are 0 faces found.\n",
      "There are 0 faces found.\n",
      "There are 1 faces found.\n",
      "There are 1 faces found.\n",
      "There are 0 faces found.\n",
      "There are 1 faces found.\n",
      "There are 1 faces found.\n",
      "There are 1 faces found.\n",
      "There are 1 faces found.\n",
      "There are 1 faces found.\n",
      "There are 1 faces found.\n",
      "There are 1 faces found.\n",
      "There are 1 faces found.\n",
      "There are 1 faces found.\n",
      "There are 1 faces found.\n",
      "There are 1 faces found.\n",
      "There are 1 faces found.\n",
      "There are 1 faces found.\n",
      "There are 1 faces found.\n",
      "There are 1 faces found.\n",
      "There are 1 faces found.\n",
      "There are 1 faces found.\n",
      "There are 1 faces found.\n",
      "There are 1 faces found.\n",
      "There are 1 faces found.\n",
      "There are 1 faces found.\n",
      "There are 1 faces found.\n",
      "There are 1 faces found.\n",
      "There are 1 faces found.\n",
      "There are 1 faces found.\n",
      "There are 1 faces found.\n",
      "There are 1 faces found.\n",
      "There are 1 faces found.\n",
      "There are 1 faces found.\n",
      "There are 1 faces found.\n",
      "There are 1 faces found.\n",
      "There are 1 faces found.\n",
      "There are 0 faces found.\n",
      "There are 1 faces found.\n",
      "There are 1 faces found.\n",
      "There are 0 faces found.\n",
      "There are 0 faces found.\n",
      "There are 0 faces found.\n",
      "There are 0 faces found.\n",
      "There are 0 faces found.\n",
      "There are 1 faces found.\n",
      "There are 0 faces found.\n",
      "There are 0 faces found.\n",
      "There are 0 faces found.\n",
      "There are 0 faces found.\n",
      "There are 1 faces found.\n",
      "There are 0 faces found.\n",
      "There are 1 faces found.\n",
      "There are 0 faces found.\n",
      "There are 0 faces found.\n",
      "There are 0 faces found.\n",
      "There are 0 faces found.\n",
      "There are 0 faces found.\n",
      "There are 0 faces found.\n",
      "There are 0 faces found.\n",
      "There are 0 faces found.\n",
      "There are 0 faces found.\n",
      "There are 1 faces found.\n",
      "There are 1 faces found.\n",
      "There are 1 faces found.\n",
      "There are 1 faces found.\n",
      "There are 1 faces found.\n",
      "There are 1 faces found.\n",
      "There are 1 faces found.\n",
      "There are 1 faces found.\n",
      "There are 1 faces found.\n",
      "There are 1 faces found.\n",
      "There are 1 faces found.\n",
      "There are 1 faces found.\n",
      "There are 1 faces found.\n",
      "There are 1 faces found.\n",
      "There are 1 faces found.\n",
      "There are 1 faces found.\n",
      "There are 1 faces found.\n",
      "There are 1 faces found.\n",
      "There are 1 faces found.\n",
      "There are 1 faces found.\n",
      "There are 1 faces found.\n",
      "There are 1 faces found.\n",
      "There are 0 faces found.\n",
      "There are 0 faces found.\n",
      "There are 0 faces found.\n",
      "There are 0 faces found.\n",
      "There are 0 faces found.\n",
      "There are 0 faces found.\n",
      "There are 0 faces found.\n",
      "There are 0 faces found.\n",
      "There are 0 faces found.\n",
      "There are 0 faces found.\n",
      "There are 0 faces found.\n",
      "There are 0 faces found.\n",
      "There are 0 faces found.\n"
     ]
    }
   ],
   "source": [
    "#while 1:\n",
    "for i in range(100) :\n",
    "    success, image = webcam.read()\n",
    "    #image = cv2.cvtColor(image, cv2.COLOR_BGR2GRAY)\n",
    "    #image = cv2.imread(\"PK2.jpg\")\n",
    "# Find face locations\n",
    "    face_locations = face_recognition.face_locations(image)\n",
    "\n",
    "    print(f'There are {len(face_locations)} faces found.')\n",
    "# Loop through each face location and draw a rectangle around the face\n",
    "    for (top, right, bottom, left) in face_locations:\n",
    "        cv2.rectangle(image, (left, top), (right, bottom), (0, 0, 255), 2)\n",
    "\n",
    "# Display the image\n",
    "    cv2.imshow(\"Face Detection\", image)\n",
    "    cv2.waitKey(1)\n",
    "\n",
    "#if (input() == 1) :\n",
    "cv2.destroyAllWindows()"
   ]
  }
 ],
 "metadata": {
  "kernelspec": {
   "display_name": "Python 3",
   "language": "python",
   "name": "python3"
  },
  "language_info": {
   "codemirror_mode": {
    "name": "ipython",
    "version": 3
   },
   "file_extension": ".py",
   "mimetype": "text/x-python",
   "name": "python",
   "nbconvert_exporter": "python",
   "pygments_lexer": "ipython3",
   "version": "3.9.6"
  },
  "orig_nbformat": 4
 },
 "nbformat": 4,
 "nbformat_minor": 2
}
